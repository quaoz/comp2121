{
 "cells": [
  {
   "cell_type": "markdown",
   "id": "1473ae58-d12c-41ed-af33-db8fd6245214",
   "metadata": {},
   "source": [
    "# Imports\n",
    "---"
   ]
  },
  {
   "cell_type": "code",
   "execution_count": 12,
   "id": "d00c3e64-dc27-4af7-8c97-abb879ca0f33",
   "metadata": {},
   "outputs": [
    {
     "name": "stdout",
     "output_type": "stream",
     "text": [
      "The autoreload extension is already loaded. To reload it, use:\n",
      "  %reload_ext autoreload\n"
     ]
    }
   ],
   "source": [
    "%load_ext autoreload\n",
    "%autoreload 2\n",
    "\n",
    "import os\n",
    "\n",
    "import matplotlib.pyplot as plt\n",
    "import numpy as np\n",
    "import optuna\n",
    "import pandas as pd\n",
    "import seaborn as sns\n",
    "import spacy\n",
    "import torch\n",
    "from optuna.exceptions import TrialPruned\n",
    "from optuna.pruners import MedianPruner\n",
    "from sentence_transformers import SentenceTransformer\n",
    "from sklearn.decomposition import PCA\n",
    "from sklearn.ensemble import GradientBoostingClassifier, RandomForestClassifier\n",
    "from sklearn.metrics import (\n",
    "    accuracy_score,\n",
    "    classification_report,\n",
    "    confusion_matrix,\n",
    "    f1_score,\n",
    ")\n",
    "from sklearn.model_selection import StratifiedKFold\n",
    "from sklearn.pipeline import Pipeline\n",
    "from sklearn.preprocessing import StandardScaler\n",
    "from sklearn.svm import SVC\n",
    "from torch.utils.data import DataLoader\n",
    "from transformers import AutoModelForSequenceClassification, AutoTokenizer\n",
    "\n",
    "from ensemble_model import EnsembleModel\n",
    "from extract_features import (\n",
    "    extract_linguistic_features,\n",
    "    extract_sbert_features,\n",
    "    extract_semantic_features,\n",
    ")\n",
    "from prepare_data import extract_claim_evidence_pairs, load_jsonl\n",
    "from tune_model import ScifactDataset, train_model"
   ]
  },
  {
   "cell_type": "markdown",
   "id": "daef4bb8-defb-4391-87de-b4fcc538c146",
   "metadata": {},
   "source": [
    "# Util\n",
    "---"
   ]
  },
  {
   "cell_type": "code",
   "execution_count": 2,
   "id": "172d0c99-5a87-455a-85ea-2fa9a29cbe1a",
   "metadata": {},
   "outputs": [],
   "source": [
    "np.random.seed(42)\n",
    "\n",
    "device_str = (\n",
    "    \"cuda\"\n",
    "    if torch.cuda.is_available()\n",
    "    else \"mps\"\n",
    "    if torch.backends.mps.is_available()\n",
    "    else \"cpu\"\n",
    ")\n",
    "device = torch.device(device_str)\n",
    "\n",
    "evidence_decode = {0: \"NOT EVIDENCE\", 1: \"EVIDENCE\"}\n",
    "evidence_encode = {\"NOT EVIDENCE\": 0, \"EVIDENCE\": 1}\n",
    "\n",
    "label_decode = {0: \"SUPPORT\", 1: \"CONTRADICT\", 2: \"NO_RELATION\"}\n",
    "label_encode = {\"SUPPORT\": 0, \"CONTRADICT\": 1, \"NO_RELATION\": 2}\n",
    "\n",
    "drop_features = [\"claim_id\", \"doc_id\", \"label\", \"is_evidence\"]"
   ]
  },
  {
   "cell_type": "markdown",
   "id": "17d5fa7b-a244-4732-93dc-c053a130ae25",
   "metadata": {},
   "source": [
    "# Data Processing\n",
    "---"
   ]
  },
  {
   "cell_type": "markdown",
   "id": "ae1bd3a8-59f8-4c67-adfd-f5730b42a5f3",
   "metadata": {},
   "source": [
    "Load the scifact corups and training and development fact sets."
   ]
  },
  {
   "cell_type": "code",
   "execution_count": 3,
   "id": "c1c0856d-d1ea-43bc-b531-ab3e2de476fa",
   "metadata": {},
   "outputs": [],
   "source": [
    "SCIFACT_DIR = os.getenv(\"SCIFACT_DATA\")\n",
    "CORPUS_PATH = os.path.join(SCIFACT_DIR, \"corpus.jsonl\")\n",
    "CLAIMS_TRAIN_PATH = os.path.join(SCIFACT_DIR, \"claims_train.jsonl\")\n",
    "CLAIMS_DEV_PATH = os.path.join(SCIFACT_DIR, \"claims_dev.jsonl\")\n",
    "\n",
    "corpus = load_jsonl(CORPUS_PATH)\n",
    "claims_train = load_jsonl(CLAIMS_TRAIN_PATH)\n",
    "claims_dev = load_jsonl(CLAIMS_DEV_PATH)\n",
    "\n",
    "corpus_dict = {doc[\"doc_id\"]: doc for doc in corpus}"
   ]
  },
  {
   "cell_type": "markdown",
   "id": "078c5789-51f6-4a1f-b32c-6ac779e10766",
   "metadata": {},
   "source": [
    "Extract claim-evidence pairs from the datasets"
   ]
  },
  {
   "cell_type": "code",
   "execution_count": 4,
   "id": "1193189d-f329-49d5-bd74-850a68dfa314",
   "metadata": {
    "scrolled": true
   },
   "outputs": [
    {
     "name": "stdout",
     "output_type": "stream",
     "text": [
      "Training set: 1914 samples\n",
      "Development set: 676 samples\n",
      "\n",
      "Label distribution in training set:\n"
     ]
    },
    {
     "data": {
      "text/html": [
       "<div>\n",
       "<style scoped>\n",
       "    .dataframe tbody tr th:only-of-type {\n",
       "        vertical-align: middle;\n",
       "    }\n",
       "\n",
       "    .dataframe tbody tr th {\n",
       "        vertical-align: top;\n",
       "    }\n",
       "\n",
       "    .dataframe thead th {\n",
       "        text-align: right;\n",
       "    }\n",
       "</style>\n",
       "<table border=\"1\" class=\"dataframe\">\n",
       "  <thead>\n",
       "    <tr style=\"text-align: right;\">\n",
       "      <th></th>\n",
       "      <th>count</th>\n",
       "    </tr>\n",
       "    <tr>\n",
       "      <th>label</th>\n",
       "      <th></th>\n",
       "    </tr>\n",
       "  </thead>\n",
       "  <tbody>\n",
       "    <tr>\n",
       "      <th>NO_RELATION</th>\n",
       "      <td>957</td>\n",
       "    </tr>\n",
       "    <tr>\n",
       "      <th>SUPPORT</th>\n",
       "      <td>616</td>\n",
       "    </tr>\n",
       "    <tr>\n",
       "      <th>CONTRADICT</th>\n",
       "      <td>341</td>\n",
       "    </tr>\n",
       "  </tbody>\n",
       "</table>\n",
       "</div>"
      ],
      "text/plain": [
       "             count\n",
       "label             \n",
       "NO_RELATION    957\n",
       "SUPPORT        616\n",
       "CONTRADICT     341"
      ]
     },
     "metadata": {},
     "output_type": "display_data"
    },
    {
     "name": "stdout",
     "output_type": "stream",
     "text": [
      "\n",
      "Evidence vs Non-evidence in training set:\n"
     ]
    },
    {
     "data": {
      "text/html": [
       "<div>\n",
       "<style scoped>\n",
       "    .dataframe tbody tr th:only-of-type {\n",
       "        vertical-align: middle;\n",
       "    }\n",
       "\n",
       "    .dataframe tbody tr th {\n",
       "        vertical-align: top;\n",
       "    }\n",
       "\n",
       "    .dataframe thead th {\n",
       "        text-align: right;\n",
       "    }\n",
       "</style>\n",
       "<table border=\"1\" class=\"dataframe\">\n",
       "  <thead>\n",
       "    <tr style=\"text-align: right;\">\n",
       "      <th></th>\n",
       "      <th>count</th>\n",
       "    </tr>\n",
       "    <tr>\n",
       "      <th>is_evidence</th>\n",
       "      <th></th>\n",
       "    </tr>\n",
       "  </thead>\n",
       "  <tbody>\n",
       "    <tr>\n",
       "      <th>EVIDENCE</th>\n",
       "      <td>957</td>\n",
       "    </tr>\n",
       "    <tr>\n",
       "      <th>NOT EVIDENCE</th>\n",
       "      <td>957</td>\n",
       "    </tr>\n",
       "  </tbody>\n",
       "</table>\n",
       "</div>"
      ],
      "text/plain": [
       "              count\n",
       "is_evidence        \n",
       "EVIDENCE        957\n",
       "NOT EVIDENCE    957"
      ]
     },
     "metadata": {},
     "output_type": "display_data"
    }
   ],
   "source": [
    "train_df = extract_claim_evidence_pairs(claims_train, corpus_dict)\n",
    "dev_df = extract_claim_evidence_pairs(claims_dev, corpus_dict)\n",
    "\n",
    "print(f\"Training set: {len(train_df)} samples\")\n",
    "print(f\"Development set: {len(dev_df)} samples\")\n",
    "print(\"\\nLabel distribution in training set:\")\n",
    "display(train_df[\"label\"].value_counts().to_frame())\n",
    "print(\"\\nEvidence vs Non-evidence in training set:\")\n",
    "display(train_df[\"is_evidence\"].map(evidence_decode).value_counts().to_frame())"
   ]
  },
  {
   "cell_type": "markdown",
   "id": "15a059bb-2d78-4f43-8bff-24c3270a5a2f",
   "metadata": {},
   "source": [
    "# Feature Extraction\n",
    "---"
   ]
  },
  {
   "cell_type": "markdown",
   "id": "fdd40089-375c-440c-bf77-90b4b2100469",
   "metadata": {},
   "source": [
    "Extract features from dataset"
   ]
  },
  {
   "cell_type": "code",
   "execution_count": 5,
   "id": "2910bab7-b99e-4294-a40e-3c0c42d3b4cf",
   "metadata": {},
   "outputs": [],
   "source": [
    "sbert_model = SentenceTransformer(\n",
    "    \"all-MiniLM-L6-v2\",\n",
    "    model_kwargs={\"torch_dtype\": \"float16\"},\n",
    "    device=device_str,\n",
    ")\n",
    "spacy_model = spacy.load(\"en_core_web_lg\")\n",
    "\n",
    "\n",
    "def extract_features(df):\n",
    "    features_list = []\n",
    "    for _, row in df.iterrows():\n",
    "        claim = row[\"claim\"]\n",
    "        evidence = row[\"evidence\"]\n",
    "\n",
    "        # Extract features\n",
    "        linguistic_features = extract_linguistic_features(spacy_model, claim, evidence)\n",
    "        semantic_features = extract_semantic_features(spacy_model, claim, evidence)\n",
    "        sbert_features = extract_sbert_features(sbert_model, claim, evidence)\n",
    "\n",
    "        # Combine all features\n",
    "        combined_features = {\n",
    "            **linguistic_features,\n",
    "            **semantic_features,\n",
    "            **sbert_features,\n",
    "        }\n",
    "        combined_features[\"claim_id\"] = row[\"claim_id\"]\n",
    "        combined_features[\"doc_id\"] = row[\"doc_id\"]\n",
    "        combined_features[\"label\"] = row[\"label\"]\n",
    "        combined_features[\"is_evidence\"] = row[\"is_evidence\"]\n",
    "\n",
    "        features_list.append(combined_features)\n",
    "    return pd.DataFrame(features_list)\n",
    "\n",
    "\n",
    "train_features = extract_features(train_df)\n",
    "dev_features = extract_features(dev_df)"
   ]
  },
  {
   "cell_type": "markdown",
   "id": "ab40fd3a-65c6-4b8c-8624-5dd70bb19bcf",
   "metadata": {},
   "source": [
    "Reduce SBERT embeddings into features using PCA"
   ]
  },
  {
   "cell_type": "code",
   "execution_count": 6,
   "id": "3b5d170b-b998-4c34-a93a-a8ae494c295b",
   "metadata": {},
   "outputs": [],
   "source": [
    "def reduce_sbert_dimensions(features_df, n_components=50):\n",
    "    \"\"\"Reduce SBERT embedding dimensions using PCA.\"\"\"\n",
    "    # Combine claim and evidence embeddings\n",
    "    sbert_embeddings = np.hstack(\n",
    "        [\n",
    "            np.vstack(features_df[\"sbert_claim_embedding\"]),\n",
    "            np.vstack(features_df[\"sbert_evidence_embedding\"]),\n",
    "        ],\n",
    "    )\n",
    "\n",
    "    # Apply PCA\n",
    "    pca = PCA(n_components=n_components, random_state=42)\n",
    "    reduced_embeddings = pca.fit_transform(sbert_embeddings)\n",
    "\n",
    "    # Create new feature columns\n",
    "    reduced_columns = [f\"sbert_pca_dim_{i}\" for i in range(n_components)]\n",
    "    reduced_df = pd.DataFrame(reduced_embeddings, columns=reduced_columns)\n",
    "\n",
    "    # Drop original embeddings and add reduced features\n",
    "    features_df = features_df.drop(\n",
    "        [\"sbert_claim_embedding\", \"sbert_evidence_embedding\"],\n",
    "        axis=1,\n",
    "    )\n",
    "    return pd.concat([features_df, reduced_df], axis=1)\n",
    "\n",
    "\n",
    "train_features = reduce_sbert_dimensions(train_features)\n",
    "dev_features = reduce_sbert_dimensions(dev_features)"
   ]
  },
  {
   "cell_type": "code",
   "execution_count": 7,
   "id": "31be4f9a-5dd6-43ef-9ef0-9868d3e9f73f",
   "metadata": {},
   "outputs": [
    {
     "name": "stdout",
     "output_type": "stream",
     "text": [
      "Extracted 78 features for training and development sets\n",
      "Training set shape: (1914, 82)\n",
      "Development set shape: (676, 82)\n"
     ]
    }
   ],
   "source": [
    "print(\n",
    "    f\"Extracted {len(train_features.columns) - 4} features for training and development sets\"\n",
    ")\n",
    "print(f\"Training set shape: {train_features.shape}\")\n",
    "print(f\"Development set shape: {dev_features.shape}\")"
   ]
  },
  {
   "cell_type": "markdown",
   "id": "d61211a1-787d-4b8c-bfef-7f77c1e4550d",
   "metadata": {},
   "source": [
    "Extract features for binary and relational classification"
   ]
  },
  {
   "cell_type": "code",
   "execution_count": 8,
   "id": "cdaf7312-7db0-4cb2-ac22-22b17de04635",
   "metadata": {},
   "outputs": [],
   "source": [
    "binary_train_X = train_features.drop(drop_features, axis=1)\n",
    "binary_train_y = train_features[\"is_evidence\"]\n",
    "\n",
    "binary_dev_X = dev_features.drop(drop_features, axis=1)\n",
    "binary_dev_y = dev_features[\"is_evidence\"]\n",
    "\n",
    "# Relation classification data (only for actual evidence)\n",
    "relation_train = train_features[train_features[\"is_evidence\"] == 1].copy()\n",
    "relation_train_X = relation_train.drop(drop_features, axis=1)\n",
    "relation_train_y = relation_train[\"label\"].map(label_encode)\n",
    "\n",
    "relation_dev = dev_features[dev_features[\"is_evidence\"] == 1].copy()\n",
    "relation_dev_X = relation_dev.drop(drop_features, axis=1)\n",
    "relation_dev_y = relation_dev[\"label\"].map(label_encode)"
   ]
  },
  {
   "cell_type": "markdown",
   "id": "7c114dba-d191-47eb-b98b-098929d5e815",
   "metadata": {},
   "source": [
    "# Model Tuning\n",
    "---"
   ]
  },
  {
   "cell_type": "markdown",
   "id": "31bc38e5-6e56-48e7-9a1f-2a1633cdeb3f",
   "metadata": {},
   "source": [
    "### SCIBERT\n",
    "\n",
    "Train scibert on dataset"
   ]
  },
  {
   "cell_type": "code",
   "execution_count": 9,
   "id": "b21c57da-f276-4ae2-83a6-6a953d201c07",
   "metadata": {
    "scrolled": true
   },
   "outputs": [
    {
     "name": "stderr",
     "output_type": "stream",
     "text": [
      "Some weights of BertForSequenceClassification were not initialized from the model checkpoint at allenai/scibert_scivocab_uncased and are newly initialized: ['classifier.bias', 'classifier.weight']\n",
      "You should probably TRAIN this model on a down-stream task to be able to use it for predictions and inference.\n",
      "Epoch 1: 100%|███████████████████████████████████████████████████████████████████████████████████████████████████████████████████| 240/240 [02:14<00:00,  1.78it/s, loss=0.399]\n"
     ]
    },
    {
     "name": "stdout",
     "output_type": "stream",
     "text": [
      "Epoch 1 - Average training loss: 0.9130\n",
      "Evaluating...\n",
      "Accuracy: 0.5828\n",
      "Weighted F1 Score: 0.5601\n",
      "\n",
      "Classification Report:\n",
      "              precision    recall  f1-score   support\n",
      "\n",
      "           0       0.54      0.53      0.54       216\n",
      "           1       0.15      0.09      0.11       122\n",
      "           2       0.69      0.79      0.74       338\n",
      "\n",
      "    accuracy                           0.58       676\n",
      "   macro avg       0.46      0.47      0.46       676\n",
      "weighted avg       0.54      0.58      0.56       676\n",
      "\n"
     ]
    },
    {
     "name": "stderr",
     "output_type": "stream",
     "text": [
      "Epoch 2: 100%|████████████████████████████████████████████████████████████████████████████████████████████████████████████████████| 240/240 [02:17<00:00,  1.74it/s, loss=1.28]\n"
     ]
    },
    {
     "name": "stdout",
     "output_type": "stream",
     "text": [
      "Epoch 2 - Average training loss: 0.7644\n",
      "Evaluating...\n",
      "Accuracy: 0.6257\n",
      "Weighted F1 Score: 0.6377\n",
      "\n",
      "Classification Report:\n",
      "              precision    recall  f1-score   support\n",
      "\n",
      "           0       0.56      0.62      0.59       216\n",
      "           1       0.34      0.43      0.38       122\n",
      "           2       0.84      0.70      0.76       338\n",
      "\n",
      "    accuracy                           0.63       676\n",
      "   macro avg       0.58      0.58      0.58       676\n",
      "weighted avg       0.66      0.63      0.64       676\n",
      "\n"
     ]
    },
    {
     "name": "stderr",
     "output_type": "stream",
     "text": [
      "Epoch 3: 100%|██████████████████████████████████████████████████████████████████████████████████████████████████████████████████| 240/240 [02:16<00:00,  1.76it/s, loss=0.0361]\n"
     ]
    },
    {
     "name": "stdout",
     "output_type": "stream",
     "text": [
      "Epoch 3 - Average training loss: 0.5945\n",
      "Evaluating...\n",
      "Accuracy: 0.5947\n",
      "Weighted F1 Score: 0.6071\n",
      "\n",
      "Classification Report:\n",
      "              precision    recall  f1-score   support\n",
      "\n",
      "           0       0.50      0.62      0.55       216\n",
      "           1       0.32      0.38      0.35       122\n",
      "           2       0.83      0.66      0.73       338\n",
      "\n",
      "    accuracy                           0.59       676\n",
      "   macro avg       0.55      0.55      0.55       676\n",
      "weighted avg       0.63      0.59      0.61       676\n",
      "\n"
     ]
    },
    {
     "name": "stderr",
     "output_type": "stream",
     "text": [
      "Epoch 4: 100%|█████████████████████████████████████████████████████████████████████████████████████████████████████████████████████| 240/240 [02:21<00:00,  1.70it/s, loss=0.7]\n"
     ]
    },
    {
     "name": "stdout",
     "output_type": "stream",
     "text": [
      "Epoch 4 - Average training loss: 0.4670\n",
      "Evaluating...\n",
      "Accuracy: 0.5680\n",
      "Weighted F1 Score: 0.5904\n",
      "\n",
      "Classification Report:\n",
      "              precision    recall  f1-score   support\n",
      "\n",
      "           0       0.50      0.60      0.54       216\n",
      "           1       0.31      0.50      0.38       122\n",
      "           2       0.88      0.57      0.70       338\n",
      "\n",
      "    accuracy                           0.57       676\n",
      "   macro avg       0.56      0.56      0.54       676\n",
      "weighted avg       0.66      0.57      0.59       676\n",
      "\n"
     ]
    }
   ],
   "source": [
    "# Initialize tokenizer and model\n",
    "model_name = \"allenai/scibert_scivocab_uncased\"\n",
    "tokenizer = AutoTokenizer.from_pretrained(model_name)\n",
    "model = AutoModelForSequenceClassification.from_pretrained(model_name, num_labels=3)\n",
    "\n",
    "# Create datasets and dataloaders\n",
    "train_dataset = ScifactDataset(train_df, tokenizer)\n",
    "dev_dataset = ScifactDataset(dev_df, tokenizer)\n",
    "\n",
    "train_dataloader = DataLoader(train_dataset, batch_size=8, shuffle=True)\n",
    "dev_dataloader = DataLoader(dev_dataset, batch_size=8)\n",
    "\n",
    "trained_model = train_model(device, model, train_dataloader, dev_dataloader, epochs=4)"
   ]
  },
  {
   "cell_type": "markdown",
   "id": "176df063-1b2c-4137-acbd-08a8c8efd392",
   "metadata": {},
   "source": [
    "### Binary Classifier\n",
    "\n",
    "Tune binary classifier hyper-parameter using optuna"
   ]
  },
  {
   "cell_type": "code",
   "execution_count": 10,
   "id": "e8494c88-d9c7-4b25-8b08-b6aa3a824200",
   "metadata": {
    "scrolled": true
   },
   "outputs": [
    {
     "name": "stderr",
     "output_type": "stream",
     "text": [
      "[I 2025-05-06 16:27:39,736] A new study created in memory with name: no-name-332d7e65-5cd3-4528-b9da-70414e60c46f\n"
     ]
    },
    {
     "data": {
      "application/vnd.jupyter.widget-view+json": {
       "model_id": "2f98f3e7f03c46c780c7a3639b081c20",
       "version_major": 2,
       "version_minor": 0
      },
      "text/plain": [
       "  0%|          | 0/100 [00:00<?, ?it/s]"
      ]
     },
     "metadata": {},
     "output_type": "display_data"
    },
    {
     "name": "stdout",
     "output_type": "stream",
     "text": [
      "[I 2025-05-06 16:27:42,694] Trial 7 finished with value: 0.6488065266951397 and parameters: {'n_estimators': 125, 'max_depth': 21, 'min_samples_split': 6, 'min_samples_leaf': 3, 'max_features': 'log2'}. Best is trial 7 with value: 0.6488065266951397.\n",
      "[I 2025-05-06 16:27:43,601] Trial 5 finished with value: 0.6694096204638372 and parameters: {'n_estimators': 150, 'max_depth': 19, 'min_samples_split': 18, 'min_samples_leaf': 4, 'max_features': 'sqrt'}. Best is trial 5 with value: 0.6694096204638372.\n",
      "[I 2025-05-06 16:27:44,152] Trial 3 finished with value: 0.667312311723188 and parameters: {'n_estimators': 173, 'max_depth': 42, 'min_samples_split': 20, 'min_samples_leaf': 3, 'max_features': 'sqrt'}. Best is trial 5 with value: 0.6694096204638372.\n",
      "[I 2025-05-06 16:27:47,300] Trial 1 finished with value: 0.6647927074399019 and parameters: {'n_estimators': 354, 'max_depth': 22, 'min_samples_split': 18, 'min_samples_leaf': 4, 'max_features': 'log2'}. Best is trial 5 with value: 0.6694096204638372.\n",
      "[I 2025-05-06 16:27:48,743] Trial 6 finished with value: 0.6739449531741903 and parameters: {'n_estimators': 91, 'max_depth': 25, 'min_samples_split': 13, 'min_samples_leaf': 8, 'max_features': None}. Best is trial 6 with value: 0.6739449531741903.\n",
      "[I 2025-05-06 16:27:49,034] Trial 2 finished with value: 0.6660986294135408 and parameters: {'n_estimators': 396, 'max_depth': 9, 'min_samples_split': 8, 'min_samples_leaf': 3, 'max_features': 'sqrt'}. Best is trial 6 with value: 0.6739449531741903.\n",
      "[I 2025-05-06 16:27:49,310] Trial 0 finished with value: 0.6726257477939436 and parameters: {'n_estimators': 92, 'max_depth': 11, 'min_samples_split': 16, 'min_samples_leaf': 6, 'max_features': None}. Best is trial 6 with value: 0.6739449531741903.\n",
      "[I 2025-05-06 16:27:49,707] Trial 8 finished with value: 0.6713997975552947 and parameters: {'n_estimators': 496, 'max_depth': 50, 'min_samples_split': 7, 'min_samples_leaf': 10, 'max_features': 'log2'}. Best is trial 6 with value: 0.6739449531741903.\n",
      "[I 2025-05-06 16:27:51,035] Trial 13 finished with value: 0.6692883604209329 and parameters: {'n_estimators': 173, 'max_depth': 12, 'min_samples_split': 15, 'min_samples_leaf': 9, 'max_features': 'log2'}. Best is trial 6 with value: 0.6739449531741903.\n",
      "[I 2025-05-06 16:27:52,420] Trial 18 pruned. \n",
      "[I 2025-05-06 16:27:52,594] Trial 14 pruned. \n",
      "[I 2025-05-06 16:27:52,920] Trial 10 finished with value: 0.6673274094326725 and parameters: {'n_estimators': 495, 'max_depth': 40, 'min_samples_split': 7, 'min_samples_leaf': 9, 'max_features': 'log2'}. Best is trial 6 with value: 0.6739449531741903.\n",
      "[I 2025-05-06 16:27:53,536] Trial 16 pruned. \n",
      "[I 2025-05-06 16:27:54,740] Trial 21 pruned. \n",
      "[I 2025-05-06 16:27:55,036] Trial 20 pruned. \n",
      "[I 2025-05-06 16:27:55,365] Trial 17 finished with value: 0.6848698077065002 and parameters: {'n_estimators': 333, 'max_depth': 5, 'min_samples_split': 7, 'min_samples_leaf': 4, 'max_features': 'log2'}. Best is trial 17 with value: 0.6848698077065002.\n",
      "[I 2025-05-06 16:27:56,318] Trial 12 pruned. \n",
      "[I 2025-05-06 16:27:57,722] Trial 22 finished with value: 0.6912165033769639 and parameters: {'n_estimators': 52, 'max_depth': 5, 'min_samples_split': 13, 'min_samples_leaf': 7, 'max_features': None}. Best is trial 22 with value: 0.6912165033769639.\n",
      "[I 2025-05-06 16:28:01,663] Trial 4 finished with value: 0.6655326300622918 and parameters: {'n_estimators': 175, 'max_depth': 32, 'min_samples_split': 17, 'min_samples_leaf': 2, 'max_features': None}. Best is trial 22 with value: 0.6912165033769639.\n",
      "[I 2025-05-06 16:28:02,058] Trial 19 pruned. \n",
      "[I 2025-05-06 16:28:06,178] Trial 28 finished with value: 0.6818474534270594 and parameters: {'n_estimators': 250, 'max_depth': 6, 'min_samples_split': 10, 'min_samples_leaf': 5, 'max_features': 'sqrt'}. Best is trial 22 with value: 0.6912165033769639.\n",
      "[I 2025-05-06 16:28:06,463] Trial 29 finished with value: 0.6815168185260442 and parameters: {'n_estimators': 259, 'max_depth': 5, 'min_samples_split': 10, 'min_samples_leaf': 5, 'max_features': 'sqrt'}. Best is trial 22 with value: 0.6912165033769639.\n",
      "[I 2025-05-06 16:28:08,411] Trial 15 pruned. \n",
      "[I 2025-05-06 16:28:10,986] Trial 24 finished with value: 0.6882191659630829 and parameters: {'n_estimators': 218, 'max_depth': 5, 'min_samples_split': 11, 'min_samples_leaf': 6, 'max_features': None}. Best is trial 22 with value: 0.6912165033769639.\n",
      "[I 2025-05-06 16:28:11,234] Trial 30 finished with value: 0.6809509867571881 and parameters: {'n_estimators': 243, 'max_depth': 7, 'min_samples_split': 10, 'min_samples_leaf': 5, 'max_features': 'sqrt'}. Best is trial 22 with value: 0.6912165033769639.\n",
      "[I 2025-05-06 16:28:12,712] Trial 31 finished with value: 0.6840715101962029 and parameters: {'n_estimators': 346, 'max_depth': 5, 'min_samples_split': 9, 'min_samples_leaf': 5, 'max_features': 'sqrt'}. Best is trial 22 with value: 0.6912165033769639.\n",
      "[I 2025-05-06 16:28:13,481] Trial 23 finished with value: 0.6895819901139051 and parameters: {'n_estimators': 256, 'max_depth': 5, 'min_samples_split': 11, 'min_samples_leaf': 7, 'max_features': None}. Best is trial 22 with value: 0.6912165033769639.\n",
      "[I 2025-05-06 16:28:14,088] Trial 25 finished with value: 0.6873242040398798 and parameters: {'n_estimators': 257, 'max_depth': 5, 'min_samples_split': 10, 'min_samples_leaf': 6, 'max_features': None}. Best is trial 22 with value: 0.6912165033769639.\n",
      "[I 2025-05-06 16:28:14,390] Trial 32 finished with value: 0.6806947496093222 and parameters: {'n_estimators': 350, 'max_depth': 5, 'min_samples_split': 9, 'min_samples_leaf': 6, 'max_features': 'sqrt'}. Best is trial 22 with value: 0.6912165033769639.\n",
      "[I 2025-05-06 16:28:15,837] Trial 11 finished with value: 0.6798893916540975 and parameters: {'n_estimators': 339, 'max_depth': 46, 'min_samples_split': 19, 'min_samples_leaf': 10, 'max_features': None}. Best is trial 22 with value: 0.6912165033769639.\n",
      "[I 2025-05-06 16:28:18,993] Trial 26 finished with value: 0.6858457045053176 and parameters: {'n_estimators': 252, 'max_depth': 7, 'min_samples_split': 10, 'min_samples_leaf': 6, 'max_features': None}. Best is trial 22 with value: 0.6912165033769639.\n",
      "[I 2025-05-06 16:28:19,317] Trial 27 finished with value: 0.6917510739213864 and parameters: {'n_estimators': 265, 'max_depth': 6, 'min_samples_split': 10, 'min_samples_leaf': 5, 'max_features': None}. Best is trial 27 with value: 0.6917510739213864.\n",
      "[I 2025-05-06 16:28:20,800] Trial 36 pruned. \n",
      "[I 2025-05-06 16:28:21,434] Trial 37 pruned. \n",
      "[I 2025-05-06 16:28:22,808] Trial 34 pruned. \n",
      "[I 2025-05-06 16:28:23,034] Trial 39 pruned. \n",
      "[I 2025-05-06 16:28:23,715] Trial 9 finished with value: 0.680313989559915 and parameters: {'n_estimators': 441, 'max_depth': 14, 'min_samples_split': 10, 'min_samples_leaf': 8, 'max_features': None}. Best is trial 27 with value: 0.6917510739213864.\n",
      "[I 2025-05-06 16:28:23,989] Trial 35 pruned. \n",
      "[I 2025-05-06 16:28:26,047] Trial 40 pruned. \n",
      "[I 2025-05-06 16:28:26,498] Trial 41 pruned. \n",
      "[I 2025-05-06 16:28:34,542] Trial 46 pruned. \n",
      "[I 2025-05-06 16:28:35,329] Trial 38 finished with value: 0.6772395425572076 and parameters: {'n_estimators': 207, 'max_depth': 10, 'min_samples_split': 15, 'min_samples_leaf': 8, 'max_features': None}. Best is trial 27 with value: 0.6917510739213864.\n",
      "[I 2025-05-06 16:28:35,797] Trial 42 pruned. \n",
      "[I 2025-05-06 16:28:37,044] Trial 48 pruned. \n",
      "[I 2025-05-06 16:28:38,011] Trial 47 pruned. \n",
      "[I 2025-05-06 16:28:45,808] Trial 33 finished with value: 0.6799966881934095 and parameters: {'n_estimators': 351, 'max_depth': 8, 'min_samples_split': 5, 'min_samples_leaf': 6, 'max_features': None}. Best is trial 27 with value: 0.6917510739213864.\n",
      "[I 2025-05-06 16:28:47,535] Trial 50 finished with value: 0.686108905354308 and parameters: {'n_estimators': 134, 'max_depth': 8, 'min_samples_split': 8, 'min_samples_leaf': 7, 'max_features': None}. Best is trial 27 with value: 0.6917510739213864.\n",
      "[I 2025-05-06 16:28:50,805] Trial 55 pruned. \n",
      "[I 2025-05-06 16:28:53,260] Trial 44 finished with value: 0.6769339521018151 and parameters: {'n_estimators': 300, 'max_depth': 10, 'min_samples_split': 12, 'min_samples_leaf': 8, 'max_features': None}. Best is trial 27 with value: 0.6917510739213864.\n",
      "[I 2025-05-06 16:28:58,602] Trial 56 pruned. \n",
      "[I 2025-05-06 16:29:00,235] Trial 43 finished with value: 0.6783657781525784 and parameters: {'n_estimators': 387, 'max_depth': 10, 'min_samples_split': 12, 'min_samples_leaf': 8, 'max_features': None}. Best is trial 27 with value: 0.6917510739213864.\n",
      "[I 2025-05-06 16:29:01,051] Trial 45 finished with value: 0.6834000061909915 and parameters: {'n_estimators': 385, 'max_depth': 9, 'min_samples_split': 11, 'min_samples_leaf': 7, 'max_features': None}. Best is trial 27 with value: 0.6917510739213864.\n",
      "[I 2025-05-06 16:29:01,198] Trial 57 pruned. \n",
      "[I 2025-05-06 16:29:02,687] Trial 49 finished with value: 0.684356871783797 and parameters: {'n_estimators': 380, 'max_depth': 8, 'min_samples_split': 14, 'min_samples_leaf': 7, 'max_features': None}. Best is trial 27 with value: 0.6917510739213864.\n",
      "[I 2025-05-06 16:29:03,910] Trial 52 finished with value: 0.6815943306971576 and parameters: {'n_estimators': 297, 'max_depth': 8, 'min_samples_split': 8, 'min_samples_leaf': 7, 'max_features': None}. Best is trial 27 with value: 0.6917510739213864.\n",
      "[I 2025-05-06 16:29:04,003] Trial 61 pruned. \n",
      "[I 2025-05-06 16:29:04,202] Trial 62 pruned. \n",
      "[I 2025-05-06 16:29:04,438] Trial 65 pruned. \n",
      "[I 2025-05-06 16:29:04,699] Trial 64 pruned. \n",
      "[I 2025-05-06 16:29:05,168] Trial 66 pruned. \n",
      "[I 2025-05-06 16:29:05,572] Trial 59 pruned. \n",
      "[I 2025-05-06 16:29:05,673] Trial 63 pruned. \n",
      "[I 2025-05-06 16:29:07,410] Trial 54 finished with value: 0.6763836828036377 and parameters: {'n_estimators': 294, 'max_depth': 8, 'min_samples_split': 8, 'min_samples_leaf': 4, 'max_features': None}. Best is trial 27 with value: 0.6917510739213864.\n",
      "[I 2025-05-06 16:29:10,050] Trial 67 pruned. \n",
      "[I 2025-05-06 16:29:10,236] Trial 60 finished with value: 0.6828496787800629 and parameters: {'n_estimators': 106, 'max_depth': 8, 'min_samples_split': 8, 'min_samples_leaf': 7, 'max_features': None}. Best is trial 27 with value: 0.6917510739213864.\n",
      "[I 2025-05-06 16:29:10,440] Trial 68 pruned. \n",
      "[I 2025-05-06 16:29:12,102] Trial 74 pruned. \n",
      "[I 2025-05-06 16:29:12,148] Trial 51 finished with value: 0.6863345616811074 and parameters: {'n_estimators': 387, 'max_depth': 8, 'min_samples_split': 8, 'min_samples_leaf': 7, 'max_features': None}. Best is trial 27 with value: 0.6917510739213864.\n",
      "[I 2025-05-06 16:29:12,339] Trial 75 pruned. \n",
      "[I 2025-05-06 16:29:12,689] Trial 69 pruned. \n",
      "[I 2025-05-06 16:29:15,437] Trial 71 pruned. \n",
      "[I 2025-05-06 16:29:15,969] Trial 53 finished with value: 0.6770301012666252 and parameters: {'n_estimators': 389, 'max_depth': 8, 'min_samples_split': 8, 'min_samples_leaf': 4, 'max_features': None}. Best is trial 27 with value: 0.6917510739213864.\n",
      "[I 2025-05-06 16:29:22,057] Trial 77 pruned. \n",
      "[I 2025-05-06 16:29:25,768] Trial 72 finished with value: 0.6911285899883571 and parameters: {'n_estimators': 237, 'max_depth': 5, 'min_samples_split': 10, 'min_samples_leaf': 5, 'max_features': None}. Best is trial 27 with value: 0.6917510739213864.\n",
      "[I 2025-05-06 16:29:27,951] Trial 73 finished with value: 0.6886793976789418 and parameters: {'n_estimators': 233, 'max_depth': 5, 'min_samples_split': 9, 'min_samples_leaf': 6, 'max_features': None}. Best is trial 27 with value: 0.6917510739213864.\n",
      "[I 2025-05-06 16:29:29,732] Trial 70 finished with value: 0.6820280051809359 and parameters: {'n_estimators': 235, 'max_depth': 8, 'min_samples_split': 9, 'min_samples_leaf': 5, 'max_features': None}. Best is trial 27 with value: 0.6917510739213864.\n",
      "[I 2025-05-06 16:29:30,319] Trial 58 finished with value: 0.6786671472033724 and parameters: {'n_estimators': 377, 'max_depth': 13, 'min_samples_split': 9, 'min_samples_leaf': 9, 'max_features': None}. Best is trial 27 with value: 0.6917510739213864.\n",
      "[I 2025-05-06 16:29:32,337] Trial 76 finished with value: 0.6876760834901199 and parameters: {'n_estimators': 266, 'max_depth': 5, 'min_samples_split': 9, 'min_samples_leaf': 6, 'max_features': None}. Best is trial 27 with value: 0.6917510739213864.\n",
      "[I 2025-05-06 16:29:32,601] Trial 78 finished with value: 0.6892491693749273 and parameters: {'n_estimators': 268, 'max_depth': 5, 'min_samples_split': 9, 'min_samples_leaf': 7, 'max_features': None}. Best is trial 27 with value: 0.6917510739213864.\n",
      "[I 2025-05-06 16:29:33,647] Trial 79 finished with value: 0.6912488003628049 and parameters: {'n_estimators': 278, 'max_depth': 5, 'min_samples_split': 9, 'min_samples_leaf': 7, 'max_features': None}. Best is trial 27 with value: 0.6917510739213864.\n",
      "[I 2025-05-06 16:29:35,618] Trial 80 finished with value: 0.6902646123055836 and parameters: {'n_estimators': 267, 'max_depth': 5, 'min_samples_split': 9, 'min_samples_leaf': 7, 'max_features': None}. Best is trial 27 with value: 0.6917510739213864.\n",
      "[I 2025-05-06 16:29:35,999] Trial 81 finished with value: 0.6902646123055836 and parameters: {'n_estimators': 267, 'max_depth': 5, 'min_samples_split': 9, 'min_samples_leaf': 7, 'max_features': None}. Best is trial 27 with value: 0.6917510739213864.\n",
      "[I 2025-05-06 16:29:41,748] Trial 82 finished with value: 0.6872777173877331 and parameters: {'n_estimators': 268, 'max_depth': 5, 'min_samples_split': 13, 'min_samples_leaf': 6, 'max_features': None}. Best is trial 27 with value: 0.6917510739213864.\n",
      "[I 2025-05-06 16:29:46,250] Trial 83 finished with value: 0.6892760941494559 and parameters: {'n_estimators': 280, 'max_depth': 5, 'min_samples_split': 6, 'min_samples_leaf': 6, 'max_features': None}. Best is trial 27 with value: 0.6917510739213864.\n",
      "[I 2025-05-06 16:29:47,101] Trial 84 finished with value: 0.6879474107521087 and parameters: {'n_estimators': 263, 'max_depth': 5, 'min_samples_split': 9, 'min_samples_leaf': 6, 'max_features': None}. Best is trial 27 with value: 0.6917510739213864.\n",
      "[I 2025-05-06 16:29:48,429] Trial 85 finished with value: 0.6876797050891845 and parameters: {'n_estimators': 261, 'max_depth': 5, 'min_samples_split': 13, 'min_samples_leaf': 6, 'max_features': None}. Best is trial 27 with value: 0.6917510739213864.\n",
      "[I 2025-05-06 16:29:49,345] Trial 86 finished with value: 0.6882359039931244 and parameters: {'n_estimators': 267, 'max_depth': 5, 'min_samples_split': 13, 'min_samples_leaf': 6, 'max_features': None}. Best is trial 27 with value: 0.6917510739213864.\n",
      "[I 2025-05-06 16:29:51,211] Trial 87 finished with value: 0.6895777558074166 and parameters: {'n_estimators': 265, 'max_depth': 5, 'min_samples_split': 13, 'min_samples_leaf': 6, 'max_features': None}. Best is trial 27 with value: 0.6917510739213864.\n",
      "[I 2025-05-06 16:29:53,928] Trial 88 finished with value: 0.6897791786477918 and parameters: {'n_estimators': 262, 'max_depth': 6, 'min_samples_split': 13, 'min_samples_leaf': 6, 'max_features': None}. Best is trial 27 with value: 0.6917510739213864.\n",
      "[I 2025-05-06 16:29:55,793] Trial 90 finished with value: 0.6910285670962057 and parameters: {'n_estimators': 285, 'max_depth': 5, 'min_samples_split': 13, 'min_samples_leaf': 7, 'max_features': None}. Best is trial 27 with value: 0.6917510739213864.\n",
      "[I 2025-05-06 16:29:55,927] Trial 98 pruned. \n",
      "[I 2025-05-06 16:29:57,126] Trial 99 pruned. \n",
      "[I 2025-05-06 16:29:57,706] Trial 91 finished with value: 0.6907712356110577 and parameters: {'n_estimators': 279, 'max_depth': 6, 'min_samples_split': 10, 'min_samples_leaf': 7, 'max_features': None}. Best is trial 27 with value: 0.6917510739213864.\n",
      "[I 2025-05-06 16:29:58,653] Trial 89 finished with value: 0.690003842639972 and parameters: {'n_estimators': 318, 'max_depth': 6, 'min_samples_split': 7, 'min_samples_leaf': 6, 'max_features': None}. Best is trial 27 with value: 0.6917510739213864.\n",
      "[I 2025-05-06 16:29:58,661] Trial 95 pruned. \n",
      "[I 2025-05-06 16:30:00,784] Trial 97 pruned. \n",
      "[I 2025-05-06 16:30:05,216] Trial 92 finished with value: 0.6898411539763162 and parameters: {'n_estimators': 321, 'max_depth': 6, 'min_samples_split': 6, 'min_samples_leaf': 7, 'max_features': None}. Best is trial 27 with value: 0.6917510739213864.\n",
      "[I 2025-05-06 16:30:07,028] Trial 94 finished with value: 0.6883948697407382 and parameters: {'n_estimators': 283, 'max_depth': 6, 'min_samples_split': 6, 'min_samples_leaf': 7, 'max_features': None}. Best is trial 27 with value: 0.6917510739213864.\n",
      "[I 2025-05-06 16:30:08,618] Trial 93 finished with value: 0.6901677193462215 and parameters: {'n_estimators': 324, 'max_depth': 6, 'min_samples_split': 6, 'min_samples_leaf': 7, 'max_features': None}. Best is trial 27 with value: 0.6917510739213864.\n",
      "[I 2025-05-06 16:30:08,720] Trial 96 finished with value: 0.6898245949433637 and parameters: {'n_estimators': 282, 'max_depth': 6, 'min_samples_split': 7, 'min_samples_leaf': 7, 'max_features': None}. Best is trial 27 with value: 0.6917510739213864.\n",
      "Best hyperparameters for binary classifier: {'n_estimators': 265, 'max_depth': 6, 'min_samples_split': 10, 'min_samples_leaf': 5, 'max_features': None}\n"
     ]
    }
   ],
   "source": [
    "# Define the objective function for Optuna\n",
    "def binary_objective(trial):\n",
    "    # Suggest hyperparameters\n",
    "    n_estimators = trial.suggest_int(\"n_estimators\", 50, 500)\n",
    "    max_depth = trial.suggest_int(\"max_depth\", 5, 50)\n",
    "    min_samples_split = trial.suggest_int(\"min_samples_split\", 2, 20)\n",
    "    min_samples_leaf = trial.suggest_int(\"min_samples_leaf\", 1, 10)\n",
    "    max_features = trial.suggest_categorical(\"max_features\", [\"sqrt\", \"log2\", None])\n",
    "\n",
    "    # Define the pipeline\n",
    "    binary_pipeline = Pipeline(\n",
    "        [\n",
    "            (\"scaler\", StandardScaler()),\n",
    "            (\n",
    "                \"classifier\",\n",
    "                RandomForestClassifier(\n",
    "                    n_estimators=n_estimators,\n",
    "                    max_depth=max_depth,\n",
    "                    min_samples_split=min_samples_split,\n",
    "                    min_samples_leaf=min_samples_leaf,\n",
    "                    max_features=max_features,\n",
    "                    random_state=42,\n",
    "                    class_weight=\"balanced\",\n",
    "                ),\n",
    "            ),\n",
    "        ],\n",
    "    )\n",
    "\n",
    "    # Perform stratified cross-validation\n",
    "    skf = StratifiedKFold(n_splits=3, shuffle=True, random_state=42)\n",
    "    scores = []\n",
    "    for fold_idx, (train_idx, val_idx) in enumerate(\n",
    "        skf.split(binary_train_X, binary_train_y),\n",
    "    ):\n",
    "        binary_pipeline.fit(\n",
    "            binary_train_X.iloc[train_idx],\n",
    "            binary_train_y.iloc[train_idx],\n",
    "        )\n",
    "        predictions = binary_pipeline.predict(binary_train_X.iloc[val_idx])\n",
    "\n",
    "        score = f1_score(binary_train_y.iloc[val_idx], predictions)\n",
    "        scores.append(score)\n",
    "\n",
    "        trial.report(score, step=fold_idx)\n",
    "        if trial.should_prune():\n",
    "            raise TrialPruned\n",
    "\n",
    "    # Return the mean F1 score\n",
    "    return np.mean(scores)\n",
    "\n",
    "\n",
    "# Run Optuna optimization\n",
    "binary_study = optuna.create_study(direction=\"maximize\", pruner=MedianPruner())\n",
    "binary_study.optimize(binary_objective, n_trials=100, n_jobs=-1, show_progress_bar=True)\n",
    "\n",
    "best_binary_params = binary_study.best_params\n",
    "print(\"Best hyperparameters for binary classifier:\", best_binary_params)"
   ]
  },
  {
   "cell_type": "markdown",
   "id": "d276bda9-00ae-45e4-b67e-fb23558a8c84",
   "metadata": {},
   "source": [
    "Create binary classifier pipeline with best parameters"
   ]
  },
  {
   "cell_type": "code",
   "execution_count": 13,
   "id": "36242596-7fcb-414a-af22-f4a8d57a7de7",
   "metadata": {},
   "outputs": [
    {
     "name": "stdout",
     "output_type": "stream",
     "text": [
      "Binary Classification - Accuracy: 0.6672, F1: 0.6744\n",
      "\n",
      "Classification Report (Binary):\n",
      "              precision    recall  f1-score   support\n",
      "\n",
      "    EVIDENCE       0.67      0.64      0.66       338\n",
      "NON-EVIDENCE       0.66      0.69      0.67       338\n",
      "\n",
      "    accuracy                           0.67       676\n",
      "   macro avg       0.67      0.67      0.67       676\n",
      "weighted avg       0.67      0.67      0.67       676\n",
      "\n"
     ]
    }
   ],
   "source": [
    "# Initialize the binary classifier with the best parameters\n",
    "binary_pipeline = Pipeline(\n",
    "    [\n",
    "        (\"scaler\", StandardScaler()),\n",
    "        (\n",
    "            \"classifier\",\n",
    "            RandomForestClassifier(\n",
    "                n_estimators=best_binary_params[\"n_estimators\"],\n",
    "                max_depth=best_binary_params[\"max_depth\"],\n",
    "                min_samples_split=best_binary_params[\"min_samples_split\"],\n",
    "                min_samples_leaf=best_binary_params[\"min_samples_leaf\"],\n",
    "                max_features=best_binary_params[\"max_features\"],\n",
    "                random_state=42,\n",
    "                class_weight=\"balanced\",\n",
    "            ),\n",
    "        ),\n",
    "    ],\n",
    ")\n",
    "\n",
    "# Train the binary classifier with the best parameters\n",
    "binary_pipeline.fit(binary_train_X, binary_train_y)\n",
    "binary_predictions = binary_pipeline.predict(binary_dev_X)\n",
    "\n",
    "# Evaluate the binary classifier\n",
    "binary_accuracy = accuracy_score(binary_dev_y, binary_predictions)\n",
    "binary_f1 = f1_score(binary_dev_y, binary_predictions)\n",
    "\n",
    "print(f\"Binary Classification - Accuracy: {binary_accuracy:.4f}, F1: {binary_f1:.4f}\")\n",
    "print(\"\\nClassification Report (Binary):\")\n",
    "print(\n",
    "    classification_report(\n",
    "        binary_dev_y, binary_predictions, target_names=[\"EVIDENCE\", \"NON-EVIDENCE\"]\n",
    "    )\n",
    ")"
   ]
  },
  {
   "cell_type": "markdown",
   "id": "2306d6f9-7abb-432d-baa1-f1e7d0ee7ee8",
   "metadata": {},
   "source": [
    "### Relation Classifier\n",
    "\n",
    "Tune relation classifier hyper-parameter using optuna"
   ]
  },
  {
   "cell_type": "code",
   "execution_count": 14,
   "id": "b5ac1c6c-5587-4f30-9eaa-b2f17fab3a60",
   "metadata": {
    "scrolled": true
   },
   "outputs": [
    {
     "name": "stderr",
     "output_type": "stream",
     "text": [
      "[I 2025-05-06 16:36:29,374] A new study created in memory with name: no-name-17024afa-45ba-47e6-9113-1dea8cf1ee7e\n"
     ]
    },
    {
     "data": {
      "application/vnd.jupyter.widget-view+json": {
       "model_id": "5f50b218e26a42e5a09a81824c921b75",
       "version_major": 2,
       "version_minor": 0
      },
      "text/plain": [
       "  0%|          | 0/100 [00:00<?, ?it/s]"
      ]
     },
     "metadata": {},
     "output_type": "display_data"
    },
    {
     "name": "stdout",
     "output_type": "stream",
     "text": [
      "[I 2025-05-06 16:36:29,628] Trial 1 finished with value: 0.38190234653437116 and parameters: {'C': 0.04215787416519296, 'kernel': 'poly', 'gamma': 'scale'}. Best is trial 1 with value: 0.38190234653437116.\n",
      "[I 2025-05-06 16:36:29,644] Trial 2 finished with value: 0.3255581692493181 and parameters: {'C': 0.2831619098499066, 'kernel': 'poly', 'gamma': 'auto'}. Best is trial 1 with value: 0.38190234653437116.\n",
      "[I 2025-05-06 16:36:29,653] Trial 7 finished with value: 0.45307574900104614 and parameters: {'C': 17.629245660149827, 'kernel': 'sigmoid', 'gamma': 'scale'}. Best is trial 7 with value: 0.45307574900104614.\n",
      "[I 2025-05-06 16:36:29,667] Trial 5 finished with value: 0.4982055490064643 and parameters: {'C': 5.00393019232166, 'kernel': 'poly', 'gamma': 'scale'}. Best is trial 5 with value: 0.4982055490064643.\n",
      "[I 2025-05-06 16:36:29,704] Trial 0 finished with value: 0.4966346365429713 and parameters: {'C': 0.19377940706164415, 'kernel': 'rbf', 'gamma': 'scale'}. Best is trial 5 with value: 0.4982055490064643.\n",
      "[I 2025-05-06 16:36:29,742] Trial 10 pruned. \n",
      "[I 2025-05-06 16:36:29,766] Trial 8 finished with value: 0.524368171699481 and parameters: {'C': 3.1798955604218393, 'kernel': 'rbf', 'gamma': 'scale'}. Best is trial 8 with value: 0.524368171699481.\n",
      "[I 2025-05-06 16:36:29,771] Trial 12 pruned. \n",
      "[I 2025-05-06 16:36:29,795] Trial 14 pruned. \n",
      "[I 2025-05-06 16:36:29,817] Trial 4 finished with value: 0.22380262896402917 and parameters: {'C': 0.07910046091261706, 'kernel': 'rbf', 'gamma': 'auto'}. Best is trial 8 with value: 0.524368171699481.\n",
      "[I 2025-05-06 16:36:29,860] Trial 6 finished with value: 0.5326628964205025 and parameters: {'C': 0.22738596256949217, 'kernel': 'linear', 'gamma': 'auto'}. Best is trial 6 with value: 0.5326628964205025.\n",
      "[I 2025-05-06 16:36:29,871] Trial 16 pruned. \n",
      "[I 2025-05-06 16:36:29,897] Trial 11 finished with value: 0.5316672471844885 and parameters: {'C': 0.028318282009271074, 'kernel': 'linear', 'gamma': 'auto'}. Best is trial 6 with value: 0.5326628964205025.\n",
      "[I 2025-05-06 16:36:29,903] Trial 15 pruned. \n",
      "[I 2025-05-06 16:36:30,020] Trial 17 finished with value: 0.5274793886836181 and parameters: {'C': 0.02191639476649915, 'kernel': 'linear', 'gamma': 'auto'}. Best is trial 6 with value: 0.5326628964205025.\n",
      "[I 2025-05-06 16:36:30,027] Trial 13 finished with value: 0.5245301180541925 and parameters: {'C': 21.111661961741152, 'kernel': 'poly', 'gamma': 'scale'}. Best is trial 6 with value: 0.5326628964205025.\n",
      "[I 2025-05-06 16:36:30,061] Trial 18 finished with value: 0.5201263211322881 and parameters: {'C': 0.015996869015936808, 'kernel': 'linear', 'gamma': 'scale'}. Best is trial 6 with value: 0.5326628964205025.\n",
      "[I 2025-05-06 16:36:30,704] Trial 23 finished with value: 0.5358760566631084 and parameters: {'C': 0.5091219982123235, 'kernel': 'linear', 'gamma': 'auto'}. Best is trial 23 with value: 0.5358760566631084.\n",
      "[I 2025-05-06 16:36:30,741] Trial 22 finished with value: 0.5372931259062647 and parameters: {'C': 0.5864593475746527, 'kernel': 'linear', 'gamma': 'auto'}. Best is trial 22 with value: 0.5372931259062647.\n",
      "[I 2025-05-06 16:36:30,784] Trial 26 finished with value: 0.5383091466874393 and parameters: {'C': 0.4808656694039014, 'kernel': 'linear', 'gamma': 'auto'}. Best is trial 26 with value: 0.5383091466874393.\n",
      "[I 2025-05-06 16:36:31,177] Trial 24 finished with value: 0.5362635823986698 and parameters: {'C': 0.8051577522433675, 'kernel': 'linear', 'gamma': 'auto'}. Best is trial 26 with value: 0.5383091466874393.\n",
      "[I 2025-05-06 16:36:31,221] Trial 25 finished with value: 0.5380272029760521 and parameters: {'C': 0.6889023204898183, 'kernel': 'linear', 'gamma': 'auto'}. Best is trial 26 with value: 0.5383091466874393.\n",
      "[I 2025-05-06 16:36:31,716] Trial 27 finished with value: 0.5362635823986698 and parameters: {'C': 0.731270901986896, 'kernel': 'linear', 'gamma': 'auto'}. Best is trial 26 with value: 0.5383091466874393.\n",
      "[I 2025-05-06 16:36:31,835] Trial 28 finished with value: 0.5380272029760521 and parameters: {'C': 0.6836905834536019, 'kernel': 'linear', 'gamma': 'auto'}. Best is trial 26 with value: 0.5383091466874393.\n",
      "[I 2025-05-06 16:36:32,147] Trial 29 finished with value: 0.5337059353696013 and parameters: {'C': 0.9149774455747666, 'kernel': 'linear', 'gamma': 'auto'}. Best is trial 26 with value: 0.5383091466874393.\n",
      "[I 2025-05-06 16:36:32,627] Trial 30 finished with value: 0.5330185755548268 and parameters: {'C': 0.9110191015935423, 'kernel': 'linear', 'gamma': 'auto'}. Best is trial 26 with value: 0.5383091466874393.\n",
      "[I 2025-05-06 16:36:32,736] Trial 35 pruned. \n",
      "[I 2025-05-06 16:36:33,004] Trial 36 finished with value: 0.5362818811735219 and parameters: {'C': 0.07888146175456193, 'kernel': 'linear', 'gamma': 'auto'}. Best is trial 26 with value: 0.5383091466874393.\n",
      "[I 2025-05-06 16:36:33,746] Trial 31 finished with value: 0.536649644653453 and parameters: {'C': 1.3967436759610359, 'kernel': 'linear', 'gamma': 'auto'}. Best is trial 26 with value: 0.5383091466874393.\n",
      "[I 2025-05-06 16:36:33,866] Trial 9 finished with value: 0.5392388144570308 and parameters: {'C': 2.609457269223762, 'kernel': 'linear', 'gamma': 'auto'}. Best is trial 9 with value: 0.5392388144570308.\n",
      "[I 2025-05-06 16:36:34,313] Trial 38 finished with value: 0.5361015795798405 and parameters: {'C': 0.3321602475353374, 'kernel': 'linear', 'gamma': 'auto'}. Best is trial 9 with value: 0.5392388144570308.\n",
      "[I 2025-05-06 16:36:34,564] Trial 34 finished with value: 0.5371360665478313 and parameters: {'C': 1.5412646498240932, 'kernel': 'linear', 'gamma': 'auto'}. Best is trial 9 with value: 0.5392388144570308.\n",
      "[I 2025-05-06 16:36:34,794] Trial 33 finished with value: 0.5388751969826139 and parameters: {'C': 1.7199074148256033, 'kernel': 'linear', 'gamma': 'auto'}. Best is trial 9 with value: 0.5392388144570308.\n",
      "[I 2025-05-06 16:36:35,134] Trial 32 finished with value: 0.5375977545311014 and parameters: {'C': 1.8728723588971357, 'kernel': 'linear', 'gamma': 'auto'}. Best is trial 9 with value: 0.5392388144570308.\n",
      "[I 2025-05-06 16:36:35,961] Trial 3 finished with value: 0.5391805765365153 and parameters: {'C': 3.8718459210839113, 'kernel': 'linear', 'gamma': 'scale'}. Best is trial 9 with value: 0.5392388144570308.\n",
      "[I 2025-05-06 16:36:36,046] Trial 44 pruned. \n",
      "[I 2025-05-06 16:36:36,304] Trial 37 finished with value: 0.5375977545311014 and parameters: {'C': 1.8312799407257885, 'kernel': 'linear', 'gamma': 'auto'}. Best is trial 9 with value: 0.5392388144570308.\n",
      "[I 2025-05-06 16:36:37,682] Trial 40 finished with value: 0.5375977545311014 and parameters: {'C': 1.873153096954253, 'kernel': 'linear', 'gamma': 'auto'}. Best is trial 9 with value: 0.5392388144570308.\n",
      "[I 2025-05-06 16:36:37,848] Trial 47 pruned. \n",
      "[I 2025-05-06 16:36:38,793] Trial 41 finished with value: 0.5383285455351671 and parameters: {'C': 2.2524791273379474, 'kernel': 'linear', 'gamma': 'auto'}. Best is trial 9 with value: 0.5392388144570308.\n",
      "[I 2025-05-06 16:36:38,906] Trial 49 pruned. \n",
      "[I 2025-05-06 16:36:44,014] Trial 50 finished with value: 0.5423590917215505 and parameters: {'C': 3.0874727018785117, 'kernel': 'linear', 'gamma': 'scale'}. Best is trial 50 with value: 0.5423590917215505.\n",
      "[I 2025-05-06 16:36:45,949] Trial 51 pruned. \n",
      "[I 2025-05-06 16:36:48,818] Trial 42 finished with value: 0.5420670204503166 and parameters: {'C': 7.620152889967254, 'kernel': 'linear', 'gamma': 'auto'}. Best is trial 50 with value: 0.5423590917215505.\n",
      "[I 2025-05-06 16:36:51,503] Trial 39 finished with value: 0.5420670204503166 and parameters: {'C': 9.306818963676648, 'kernel': 'linear', 'gamma': 'auto'}. Best is trial 50 with value: 0.5423590917215505.\n",
      "[I 2025-05-06 16:36:51,610] Trial 54 pruned. \n",
      "[I 2025-05-06 16:36:51,892] Trial 55 pruned. \n",
      "[I 2025-05-06 16:36:53,593] Trial 46 finished with value: 0.5437259729876845 and parameters: {'C': 9.053419063723423, 'kernel': 'linear', 'gamma': 'scale'}. Best is trial 46 with value: 0.5437259729876845.\n",
      "[I 2025-05-06 16:36:55,904] Trial 52 finished with value: 0.5432378860833915 and parameters: {'C': 5.515910662290841, 'kernel': 'linear', 'gamma': 'scale'}. Best is trial 46 with value: 0.5437259729876845.\n",
      "[I 2025-05-06 16:36:56,256] Trial 45 finished with value: 0.5435947438542205 and parameters: {'C': 11.055305618344953, 'kernel': 'linear', 'gamma': 'scale'}. Best is trial 46 with value: 0.5437259729876845.\n",
      "[I 2025-05-06 16:36:56,387] Trial 59 pruned. \n",
      "[I 2025-05-06 16:36:56,481] Trial 43 finished with value: 0.5412137914732681 and parameters: {'C': 11.280779371252665, 'kernel': 'linear', 'gamma': 'auto'}. Best is trial 46 with value: 0.5437259729876845.\n",
      "[I 2025-05-06 16:36:58,899] Trial 48 finished with value: 0.5428999463622698 and parameters: {'C': 13.576608465460003, 'kernel': 'linear', 'gamma': 'scale'}. Best is trial 46 with value: 0.5437259729876845.\n",
      "[I 2025-05-06 16:37:00,675] Trial 56 finished with value: 0.5432378860833915 and parameters: {'C': 5.150973378700762, 'kernel': 'linear', 'gamma': 'scale'}. Best is trial 46 with value: 0.5437259729876845.\n",
      "[I 2025-05-06 16:37:02,898] Trial 20 pruned. \n",
      "[I 2025-05-06 16:37:04,682] Trial 57 finished with value: 0.5432378860833915 and parameters: {'C': 6.1221743027974425, 'kernel': 'linear', 'gamma': 'scale'}. Best is trial 46 with value: 0.5437259729876845.\n",
      "[I 2025-05-06 16:37:04,947] Trial 65 pruned. \n",
      "[I 2025-05-06 16:37:06,189] Trial 58 finished with value: 0.5415671679251912 and parameters: {'C': 6.171585767729603, 'kernel': 'linear', 'gamma': 'scale'}. Best is trial 46 with value: 0.5437259729876845.\n",
      "[I 2025-05-06 16:37:06,326] Trial 60 finished with value: 0.5448968386207595 and parameters: {'C': 6.070682239342154, 'kernel': 'linear', 'gamma': 'scale'}. Best is trial 60 with value: 0.5448968386207595.\n",
      "[I 2025-05-06 16:37:06,418] Trial 68 pruned. \n",
      "[I 2025-05-06 16:37:06,851] Trial 61 finished with value: 0.5448968386207595 and parameters: {'C': 5.882892839586958, 'kernel': 'linear', 'gamma': 'scale'}. Best is trial 60 with value: 0.5448968386207595.\n",
      "[I 2025-05-06 16:37:07,776] Trial 62 finished with value: 0.5432378860833915 and parameters: {'C': 5.576051381650656, 'kernel': 'linear', 'gamma': 'scale'}. Best is trial 60 with value: 0.5448968386207595.\n",
      "[I 2025-05-06 16:37:09,518] Trial 70 pruned. \n",
      "[I 2025-05-06 16:37:10,369] Trial 63 finished with value: 0.5432378860833915 and parameters: {'C': 6.118912166256507, 'kernel': 'linear', 'gamma': 'scale'}. Best is trial 60 with value: 0.5448968386207595.\n",
      "[I 2025-05-06 16:37:12,067] Trial 64 finished with value: 0.5432378860833915 and parameters: {'C': 5.483561869790933, 'kernel': 'linear', 'gamma': 'scale'}. Best is trial 60 with value: 0.5448968386207595.\n",
      "[I 2025-05-06 16:37:14,440] Trial 66 finished with value: 0.5432378860833915 and parameters: {'C': 5.458871084153801, 'kernel': 'linear', 'gamma': 'scale'}. Best is trial 60 with value: 0.5448968386207595.\n",
      "[I 2025-05-06 16:37:14,536] Trial 75 pruned. \n",
      "[I 2025-05-06 16:37:14,746] Trial 67 finished with value: 0.5432378860833915 and parameters: {'C': 5.342847248028815, 'kernel': 'linear', 'gamma': 'scale'}. Best is trial 60 with value: 0.5448968386207595.\n",
      "[I 2025-05-06 16:37:19,654] Trial 71 pruned. \n",
      "[I 2025-05-06 16:37:21,529] Trial 78 pruned. \n",
      "[I 2025-05-06 16:37:22,881] Trial 79 pruned. \n",
      "[I 2025-05-06 16:37:29,966] Trial 53 finished with value: 0.5438189612762668 and parameters: {'C': 22.42206178997449, 'kernel': 'linear', 'gamma': 'scale'}. Best is trial 60 with value: 0.5448968386207595.\n",
      "[I 2025-05-06 16:37:36,166] Trial 80 finished with value: 0.5420670204503166 and parameters: {'C': 7.9833983641351285, 'kernel': 'linear', 'gamma': 'scale'}. Best is trial 60 with value: 0.5448968386207595.\n",
      "[I 2025-05-06 16:37:50,455] Trial 69 finished with value: 0.542530345471522 and parameters: {'C': 23.180463145546437, 'kernel': 'linear', 'gamma': 'scale'}. Best is trial 60 with value: 0.5448968386207595.\n",
      "[I 2025-05-06 16:37:50,461] Trial 73 finished with value: 0.5432301235906549 and parameters: {'C': 22.57760407560285, 'kernel': 'linear', 'gamma': 'scale'}. Best is trial 60 with value: 0.5448968386207595.\n",
      "[I 2025-05-06 16:37:54,366] Trial 72 finished with value: 0.542530345471522 and parameters: {'C': 24.48931688410449, 'kernel': 'linear', 'gamma': 'scale'}. Best is trial 60 with value: 0.5448968386207595.\n",
      "[I 2025-05-06 16:37:56,059] Trial 74 finished with value: 0.542530345471522 and parameters: {'C': 22.829621301048757, 'kernel': 'linear', 'gamma': 'scale'}. Best is trial 60 with value: 0.5448968386207595.\n",
      "[I 2025-05-06 16:37:56,151] Trial 81 finished with value: 0.5442945219733534 and parameters: {'C': 14.207640499325846, 'kernel': 'linear', 'gamma': 'scale'}. Best is trial 60 with value: 0.5448968386207595.\n",
      "[I 2025-05-06 16:38:10,383] Trial 77 finished with value: 0.542194408265885 and parameters: {'C': 32.795648384301046, 'kernel': 'linear', 'gamma': 'scale'}. Best is trial 60 with value: 0.5448968386207595.\n",
      "[I 2025-05-06 16:38:10,506] Trial 88 pruned. \n",
      "[I 2025-05-06 16:38:16,626] Trial 83 finished with value: 0.5460952474579476 and parameters: {'C': 14.195556955316876, 'kernel': 'linear', 'gamma': 'scale'}. Best is trial 83 with value: 0.5460952474579476.\n",
      "[I 2025-05-06 16:38:17,923] Trial 85 finished with value: 0.5453954693388147 and parameters: {'C': 13.753998105300672, 'kernel': 'linear', 'gamma': 'scale'}. Best is trial 83 with value: 0.5460952474579476.\n",
      "[I 2025-05-06 16:38:18,563] Trial 76 finished with value: 0.5405202119221952 and parameters: {'C': 32.5754382116629, 'kernel': 'linear', 'gamma': 'scale'}. Best is trial 83 with value: 0.5460952474579476.\n",
      "[I 2025-05-06 16:38:45,348] Trial 90 pruned. \n",
      "[I 2025-05-06 16:38:46,287] Trial 91 pruned. \n",
      "[I 2025-05-06 16:38:46,379] Trial 94 pruned. \n",
      "[I 2025-05-06 16:39:05,274] Trial 19 finished with value: 0.542194408265885 and parameters: {'C': 80.18269880726726, 'kernel': 'linear', 'gamma': 'scale'}. Best is trial 83 with value: 0.5460952474579476.\n",
      "[I 2025-05-06 16:39:06,038] Trial 84 finished with value: 0.5405202119221952 and parameters: {'C': 37.05201090699731, 'kernel': 'linear', 'gamma': 'scale'}. Best is trial 83 with value: 0.5460952474579476.\n",
      "[I 2025-05-06 16:39:06,136] Trial 97 pruned. \n",
      "[I 2025-05-06 16:39:07,018] Trial 87 finished with value: 0.5399313742365833 and parameters: {'C': 35.8343488081149, 'kernel': 'linear', 'gamma': 'scale'}. Best is trial 83 with value: 0.5460952474579476.\n",
      "[I 2025-05-06 16:39:23,689] Trial 96 finished with value: 0.5435947438542205 and parameters: {'C': 10.900484979576738, 'kernel': 'linear', 'gamma': 'scale'}. Best is trial 83 with value: 0.5460952474579476.\n",
      "[I 2025-05-06 16:39:25,685] Trial 21 finished with value: 0.542194408265885 and parameters: {'C': 81.91006437566188, 'kernel': 'linear', 'gamma': 'scale'}. Best is trial 83 with value: 0.5460952474579476.\n",
      "[I 2025-05-06 16:39:31,229] Trial 99 finished with value: 0.5442945219733534 and parameters: {'C': 15.75613823697257, 'kernel': 'linear', 'gamma': 'scale'}. Best is trial 83 with value: 0.5460952474579476.\n",
      "[I 2025-05-06 16:39:34,053] Trial 98 finished with value: 0.547776421719767 and parameters: {'C': 16.87295283621623, 'kernel': 'linear', 'gamma': 'scale'}. Best is trial 98 with value: 0.547776421719767.\n",
      "[I 2025-05-06 16:39:57,482] Trial 82 finished with value: 0.542194408265885 and parameters: {'C': 76.83517022724561, 'kernel': 'linear', 'gamma': 'scale'}. Best is trial 98 with value: 0.547776421719767.\n",
      "[I 2025-05-06 16:40:31,934] Trial 86 finished with value: 0.542194408265885 and parameters: {'C': 81.86307030965318, 'kernel': 'linear', 'gamma': 'scale'}. Best is trial 98 with value: 0.547776421719767.\n",
      "[I 2025-05-06 16:41:02,015] Trial 92 finished with value: 0.542194408265885 and parameters: {'C': 93.2109466439661, 'kernel': 'linear', 'gamma': 'scale'}. Best is trial 98 with value: 0.547776421719767.\n",
      "[I 2025-05-06 16:41:05,938] Trial 89 finished with value: 0.5405202119221952 and parameters: {'C': 95.86667914483527, 'kernel': 'linear', 'gamma': 'scale'}. Best is trial 98 with value: 0.547776421719767.\n",
      "[I 2025-05-06 16:41:10,697] Trial 93 finished with value: 0.542194408265885 and parameters: {'C': 83.3607309529258, 'kernel': 'linear', 'gamma': 'scale'}. Best is trial 98 with value: 0.547776421719767.\n",
      "[I 2025-05-06 16:41:21,192] Trial 95 finished with value: 0.542194408265885 and parameters: {'C': 96.99154114081044, 'kernel': 'linear', 'gamma': 'scale'}. Best is trial 98 with value: 0.547776421719767.\n",
      "Best hyperparameters for relation classifier: {'C': 16.87295283621623, 'kernel': 'linear', 'gamma': 'scale'}\n"
     ]
    }
   ],
   "source": [
    "# Define the objective function for Optuna\n",
    "def relation_objective(trial):\n",
    "    # Suggest hyperparameters\n",
    "    C = trial.suggest_float(\"C\", 0.01, 100, log=True)\n",
    "    kernel = trial.suggest_categorical(\"kernel\", [\"linear\", \"rbf\", \"poly\", \"sigmoid\"])\n",
    "    gamma = trial.suggest_categorical(\"gamma\", [\"scale\", \"auto\"])\n",
    "\n",
    "    # Define the pipeline\n",
    "    relation_pipeline = Pipeline(\n",
    "        [\n",
    "            (\"scaler\", StandardScaler()),\n",
    "            (\n",
    "                \"classifier\",\n",
    "                SVC(\n",
    "                    C=C,\n",
    "                    kernel=kernel,\n",
    "                    gamma=gamma,\n",
    "                    probability=True,\n",
    "                    random_state=42,\n",
    "                    class_weight=\"balanced\",\n",
    "                ),\n",
    "            ),\n",
    "        ],\n",
    "    )\n",
    "\n",
    "    # Perform stratified cross-validation\n",
    "    skf = StratifiedKFold(n_splits=3, shuffle=True, random_state=42)\n",
    "    scores = []\n",
    "    for fold_idx, (train_idx, val_idx) in enumerate(\n",
    "        skf.split(relation_train_X, relation_train_y),\n",
    "    ):\n",
    "        relation_pipeline.fit(\n",
    "            relation_train_X.iloc[train_idx],\n",
    "            relation_train_y.iloc[train_idx],\n",
    "        )\n",
    "        predictions = relation_pipeline.predict(relation_train_X.iloc[val_idx])\n",
    "\n",
    "        score = f1_score(relation_train_y.iloc[val_idx], predictions)\n",
    "        scores.append(score)\n",
    "\n",
    "        trial.report(score, step=fold_idx)\n",
    "        if trial.should_prune():\n",
    "            raise TrialPruned\n",
    "\n",
    "    # Return the mean F1 score\n",
    "    return np.mean(scores)\n",
    "\n",
    "\n",
    "# Run Optuna optimization\n",
    "relation_study = optuna.create_study(direction=\"maximize\", pruner=MedianPruner())\n",
    "relation_study.optimize(\n",
    "    relation_objective,\n",
    "    n_trials=100,\n",
    "    n_jobs=-1,\n",
    "    show_progress_bar=True,\n",
    ")\n",
    "\n",
    "best_relation_params = relation_study.best_params\n",
    "print(\"Best hyperparameters for relation classifier:\", best_relation_params)"
   ]
  },
  {
   "cell_type": "markdown",
   "id": "6ecf6842-2afd-4122-95b3-7feb1442cba1",
   "metadata": {},
   "source": [
    "Create relation classifier pipeline with best parameters"
   ]
  },
  {
   "cell_type": "code",
   "execution_count": 15,
   "id": "66b94a47-e0b5-4b74-89e7-1f34071e45a6",
   "metadata": {},
   "outputs": [
    {
     "name": "stdout",
     "output_type": "stream",
     "text": [
      "Relation Classification - Accuracy: 0.5355, F1: 0.4249\n",
      "\n",
      "Classification Report (Relation):\n",
      "              precision    recall  f1-score   support\n",
      "\n",
      "     SUPPORT       0.66      0.57      0.61       216\n",
      "  CONTRADICT       0.38      0.48      0.42       122\n",
      "\n",
      "    accuracy                           0.54       338\n",
      "   macro avg       0.52      0.52      0.52       338\n",
      "weighted avg       0.56      0.54      0.54       338\n",
      "\n"
     ]
    }
   ],
   "source": [
    "# Initialize the relation classifier with the best parameters\n",
    "relation_pipeline = Pipeline(\n",
    "    [\n",
    "        (\"scaler\", StandardScaler()),\n",
    "        (\n",
    "            \"classifier\",\n",
    "            SVC(\n",
    "                C=best_relation_params[\"C\"],\n",
    "                kernel=best_relation_params[\"kernel\"],\n",
    "                gamma=best_relation_params[\"gamma\"],\n",
    "                probability=True,\n",
    "                random_state=42,\n",
    "                class_weight=\"balanced\",\n",
    "            ),\n",
    "        ),\n",
    "    ],\n",
    ")\n",
    "\n",
    "# Train the relation classifier with the best parameters\n",
    "relation_pipeline.fit(relation_train_X, relation_train_y)\n",
    "relation_predictions = relation_pipeline.predict(relation_dev_X)\n",
    "\n",
    "# Evaluate the relation classifier\n",
    "relation_accuracy = accuracy_score(relation_dev_y, relation_predictions)\n",
    "relation_f1 = f1_score(relation_dev_y, relation_predictions)\n",
    "\n",
    "print(\n",
    "    f\"Relation Classification - Accuracy: {relation_accuracy:.4f}, F1: {relation_f1:.4f}\"\n",
    ")\n",
    "print(\"\\nClassification Report (Relation):\")\n",
    "print(\n",
    "    classification_report(\n",
    "        relation_dev_y, relation_predictions, target_names=[\"SUPPORT\", \"CONTRADICT\"]\n",
    "    )\n",
    ")"
   ]
  },
  {
   "cell_type": "markdown",
   "id": "08883c03-6f13-4fc1-89e1-d8ddb8ad98cd",
   "metadata": {},
   "source": [
    "# Ensemble Model\n",
    "---"
   ]
  },
  {
   "cell_type": "markdown",
   "id": "9e181734-e903-4510-b873-0643d66ed2d4",
   "metadata": {},
   "source": [
    "### Training\n",
    "\n",
    "Prepare data for ensemble model meta classifier training"
   ]
  },
  {
   "cell_type": "code",
   "execution_count": 16,
   "id": "9d258a33-82fe-447a-bef0-db93352f961e",
   "metadata": {},
   "outputs": [],
   "source": [
    "meta_classifier = GradientBoostingClassifier(n_estimators=100, random_state=42)\n",
    "# meta_classifier = LogisticRegression()\n",
    "\n",
    "# Initialize ensemble\n",
    "ensemble = EnsembleModel(\n",
    "    device,\n",
    "    binary_pipeline,\n",
    "    relation_pipeline,\n",
    "    trained_model,\n",
    "    tokenizer,\n",
    "    meta_classifier,\n",
    ")\n",
    "\n",
    "# Prepare data for meta-classifier training\n",
    "\n",
    "# Get traditional model probabilities\n",
    "binary_train_probs = binary_pipeline.predict_proba(binary_train_X)\n",
    "\n",
    "# For relation classifier, align probabilities with the full training set\n",
    "relation_train_probs = np.zeros((len(train_df), 2))\n",
    "is_evidence_mask = train_features[\"is_evidence\"] == 1\n",
    "relation_train_probs[is_evidence_mask] = relation_pipeline.predict_proba(\n",
    "    relation_train_X,\n",
    ")\n",
    "\n",
    "# Get transformer model probabilities\n",
    "train_claims = train_df[\"claim\"].tolist()\n",
    "train_evidences = train_df[\"evidence\"].tolist()\n",
    "bert_train_probs = ensemble.get_bert_predictions(train_claims, train_evidences)\n",
    "\n",
    "# Combine probabilities into a feature matrix\n",
    "meta_train_features = np.hstack(\n",
    "    [binary_train_probs, relation_train_probs, bert_train_probs],\n",
    ")\n",
    "meta_train_labels = train_df[\"label\"].map(label_encode).values"
   ]
  },
  {
   "cell_type": "markdown",
   "id": "744ba8a9-bad9-4da4-b6ae-62af300f03ab",
   "metadata": {},
   "source": [
    "Train ensemble model meta classifier"
   ]
  },
  {
   "cell_type": "code",
   "execution_count": 17,
   "id": "6ffdb35e-2df6-432f-b25d-b11f759f9ee7",
   "metadata": {},
   "outputs": [
    {
     "name": "stdout",
     "output_type": "stream",
     "text": [
      "Training the meta-classifier...\n"
     ]
    }
   ],
   "source": [
    "# Train the meta-classifier\n",
    "print(\"Training the meta-classifier...\")\n",
    "ensemble.train_meta_classifier(meta_train_features, meta_train_labels)"
   ]
  },
  {
   "cell_type": "markdown",
   "id": "ffb999e0-237b-447b-8a64-bdf156698d1e",
   "metadata": {},
   "source": [
    "### Evaluation\n",
    "\n",
    "Evaluate ensemble model"
   ]
  },
  {
   "cell_type": "code",
   "execution_count": 18,
   "id": "7958c547-4b19-499f-823c-98abcfdada65",
   "metadata": {},
   "outputs": [
    {
     "name": "stdout",
     "output_type": "stream",
     "text": [
      "\n",
      "Ensemble Model Evaluation:\n",
      "Accuracy: 0.7988\n",
      "Weighted F1 Score: 0.7995\n",
      "\n",
      "Classification Report:\n",
      "              precision    recall  f1-score   support\n",
      "\n",
      "     SUPPORT       0.69      0.68      0.68       216\n",
      "  CONTRADICT       0.44      0.46      0.45       122\n",
      " NO_RELATION       1.00      1.00      1.00       338\n",
      "\n",
      "    accuracy                           0.80       676\n",
      "   macro avg       0.71      0.71      0.71       676\n",
      "weighted avg       0.80      0.80      0.80       676\n",
      "\n"
     ]
    }
   ],
   "source": [
    "# Extract required columns for prediction\n",
    "dev_claims = dev_df[\"claim\"].tolist()\n",
    "dev_evidences = dev_df[\"evidence\"].tolist()\n",
    "\n",
    "# Make predictions\n",
    "predictions = ensemble.predict(dev_features, dev_claims, dev_evidences)\n",
    "\n",
    "# Evaluate\n",
    "true_labels = dev_df[\"label\"].map(label_encode).values\n",
    "accuracy = accuracy_score(true_labels, predictions)\n",
    "f1 = f1_score(true_labels, predictions, average=\"weighted\")\n",
    "\n",
    "print(\"\\nEnsemble Model Evaluation:\")\n",
    "print(f\"Accuracy: {accuracy:.4f}\")\n",
    "print(f\"Weighted F1 Score: {f1:.4f}\")\n",
    "print(\"\\nClassification Report:\")\n",
    "print(\n",
    "    classification_report(\n",
    "        true_labels, predictions, target_names=[\"SUPPORT\", \"CONTRADICT\", \"NO_RELATION\"]\n",
    "    )\n",
    ")"
   ]
  },
  {
   "cell_type": "markdown",
   "id": "8f5ee57b-29d5-41d7-a03b-63e643a95bcd",
   "metadata": {},
   "source": [
    "# Visiualizations\n",
    "---"
   ]
  },
  {
   "cell_type": "markdown",
   "id": "51829947-844d-4d82-b3c3-7978d256f7cf",
   "metadata": {},
   "source": [
    "### Confusion Matrix"
   ]
  },
  {
   "cell_type": "code",
   "execution_count": 19,
   "id": "7a84b6d1-1164-4948-a553-6535e0a9c479",
   "metadata": {},
   "outputs": [
    {
     "data": {
      "image/png": "[encoded data removed]",
      "text/plain": [
       "<Figure size 800x600 with 2 Axes>"
      ]
     },
     "metadata": {},
     "output_type": "display_data"
    }
   ],
   "source": [
    "# Generate confusion matrix\n",
    "cm = confusion_matrix(true_labels, predictions, labels=[0, 1, 2])\n",
    "\n",
    "# Plot confusion matrix\n",
    "plt.figure(figsize=(8, 6))\n",
    "sns.heatmap(\n",
    "    cm,\n",
    "    annot=True,\n",
    "    fmt=\"d\",\n",
    "    cmap=\"Blues\",\n",
    "    xticklabels=[\"SUPPORT\", \"CONTRADICT\", \"NO_RELATION\"],\n",
    "    yticklabels=[\"SUPPORT\", \"CONTRADICT\", \"NO_RELATION\"],\n",
    ")\n",
    "plt.xlabel(\"Predicted\")\n",
    "plt.ylabel(\"True\")\n",
    "plt.title(\"Confusion Matrix for Ensemble Model\")\n",
    "plt.tight_layout()\n",
    "plt.show()"
   ]
  },
  {
   "cell_type": "markdown",
   "id": "2b20c33a-9e66-4de0-8a3f-55cd146ee13b",
   "metadata": {},
   "source": [
    "### Feature Importance"
   ]
  },
  {
   "cell_type": "code",
   "execution_count": 20,
   "id": "732a7ecf-97b3-487d-bcfc-cb25807f6929",
   "metadata": {},
   "outputs": [
    {
     "data": {
      "image/png": "[encoded data removed]",
      "text/plain": [
       "<Figure size 1000x800 with 1 Axes>"
      ]
     },
     "metadata": {},
     "output_type": "display_data"
    }
   ],
   "source": [
    "# Extract feature names and importances from the binary classifier\n",
    "binary_feature_names = binary_train_X.columns.tolist()\n",
    "binary_feature_importances = binary_pipeline.named_steps[\n",
    "    \"classifier\"\n",
    "].feature_importances_\n",
    "\n",
    "# Pair feature names with their importance scores\n",
    "features_with_importance = list(\n",
    "    zip(binary_feature_names, binary_feature_importances, strict=False)\n",
    ")\n",
    "\n",
    "# Sort features by importance in descending order\n",
    "sorted_features = sorted(features_with_importance, key=lambda x: x[1], reverse=True)\n",
    "\n",
    "# Select the top 25 features\n",
    "top_n = 25\n",
    "top_features = sorted_features[:top_n]\n",
    "\n",
    "# Unpack feature names and importances for plotting\n",
    "top_feature_names, top_feature_importances = zip(*top_features, strict=False)\n",
    "\n",
    "# Plot the top 25 features\n",
    "plt.figure(figsize=(10, 8))\n",
    "plt.barh(top_feature_names, top_feature_importances, color=\"skyblue\")\n",
    "plt.xlabel(\"Importance\")\n",
    "plt.ylabel(\"Feature\")\n",
    "plt.title(f\"Top {top_n} Most Important Features (Binary Classifier)\")\n",
    "plt.gca().invert_yaxis()  # Invert y-axis to show the most important feature at the top\n",
    "plt.tight_layout()\n",
    "plt.show()"
   ]
  }
 ],
 "metadata": {
  "kernelspec": {
   "display_name": "Python 3 (ipykernel)",
   "language": "python",
   "name": "python3"
  },
  "language_info": {
   "codemirror_mode": {
    "name": "ipython",
    "version": 3
   },
   "file_extension": ".py",
   "mimetype": "text/x-python",
   "name": "python",
   "nbconvert_exporter": "python",
   "pygments_lexer": "ipython3",
   "version": "3.12.9"
  }
 },
 "nbformat": 4,
 "nbformat_minor": 5
}
